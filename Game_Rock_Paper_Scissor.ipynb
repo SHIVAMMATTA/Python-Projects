{
  "nbformat": 4,
  "nbformat_minor": 0,
  "metadata": {
    "colab": {
      "provenance": [],
      "authorship_tag": "ABX9TyPsY5aQD9VLNo/wqEEBv/ab",
      "include_colab_link": true
    },
    "kernelspec": {
      "name": "python3",
      "display_name": "Python 3"
    },
    "language_info": {
      "name": "python"
    }
  },
  "cells": [
    {
      "cell_type": "markdown",
      "metadata": {
        "id": "view-in-github",
        "colab_type": "text"
      },
      "source": [
        "<a href=\"https://colab.research.google.com/github/SHIVAMMATTA/Python-Projects/blob/main/Game_Rock_Paper_Scissor.ipynb\" target=\"_parent\"><img src=\"https://colab.research.google.com/assets/colab-badge.svg\" alt=\"Open In Colab\"/></a>"
      ]
    },
    {
      "cell_type": "code",
      "source": [
        "import random\n",
        "\n",
        "#printing Game Instructions\n",
        "print('Winning Rule of the Game Rock, Paper, Scissor are:\\n'\n",
        "+'Rock v/s Paper --> Paer Wins \\n'\n",
        "+'Rock v/s Scissor --> Rock Wins \\n'\n",
        "+' Paper v/s Scissor --> Scissor Wins \\n')\n",
        "\n",
        "\n",
        "#Infinite Loop that keeps game running untill user decide to exit\n",
        "while True:\n",
        "  print('Enter your Choice: \\n 1- Rock \\n 2- Paper \\n 3- Scissor \\n')\n",
        "  choice= int(input('Enter your choice:'))\n",
        "  while choice>3 or choice<1:\n",
        "    choise=int(input(\"Enter the valid choice:\")) # Validation of choice\n",
        "  if choice == 1:\n",
        "    choice_name = 'Rock'\n",
        "  elif choice ==2:\n",
        "    choice_name = 'Paper'\n",
        "  else:\n",
        "    choice_name = 'Scissor'\n",
        "\n",
        "  #Print User Choice\n",
        "  print('Your Choice is:',choice_name)\n",
        "  print('Now its Computer Turn')\n",
        "\n",
        "  comp_choice = random.randint(1,3)\n",
        "  if comp_choice ==1:\n",
        "    comp_choice_name = 'Rock'\n",
        "  elif comp_choice ==2:\n",
        "    comp_choice_name = 'Paper'\n",
        "  else:\n",
        "    comp_choice_name = 'Scissor'\n",
        "\n",
        "  print ('Computer Choice is:',comp_choice_name)\n",
        "  print (choice_name,'v/s', comp_choice_name)\n",
        "\n",
        "  #Determine the winner\n",
        "  if choice == comp_choice:\n",
        "    result = 'Draw'\n",
        "  elif (choice == 1 and comp_choice == 2) or (comp_choice == 1 and choice == 2):\n",
        "    result = 'Paper'\n",
        "  elif (choice == 1 and comp_choice == 3) or (comp_choice == 1 and choice == 3):\n",
        "    result = 'Rock'\n",
        "  elif (choice == 2 and comp_choice == 3) or (comp_choice == 2 and choice == 3):\n",
        "    result = 'Scissor'\n",
        "\n",
        "  #Display the Result\n",
        "  if result == 'Draw':\n",
        "    print('<== Its a Tie ==>')\n",
        "  if result == choice_name:\n",
        "    print('<== You Win ==>')\n",
        "  else:\n",
        "    print('<== Computer Win ==>')\n",
        "\n",
        "  #Asking user to play again:\n",
        "  print('Do you want to play again: Press (Y/N)')\n",
        "  ans=input().lower()\n",
        "  if ans == 'n':\n",
        "    break\n",
        "\n",
        "#Exiting While Loop\n",
        "print('Thanks for Playing')"
      ],
      "metadata": {
        "colab": {
          "base_uri": "https://localhost:8080/"
        },
        "id": "fpDJ4htf59_s",
        "outputId": "23fdbe82-199b-498c-eeaa-2b7978cde12a"
      },
      "execution_count": 22,
      "outputs": [
        {
          "output_type": "stream",
          "name": "stdout",
          "text": [
            "Winning Rule of the Game Rock, Paper, Scissor are:\n",
            "Rock v/s Paper --> Paer Wins \n",
            "Rock v/s Scissor --> Rock Wins \n",
            " Paper v/s Scissor --> Scissor Wins \n",
            "\n",
            "Enter your Choice: \n",
            " 1- Rock \n",
            " 2- Paper \n",
            " 3- Scissor \n",
            "\n",
            "Enter your choice:1\n",
            "Your Choice is: Rock\n",
            "Now its Computer Turn\n",
            "Computer Choice is: Scissor\n",
            "Rock v/s Scissor\n",
            "<== You Win ==>\n",
            "Do you want to play again: Press (Y/N)\n",
            "y\n",
            "Enter your Choice: \n",
            " 1- Rock \n",
            " 2- Paper \n",
            " 3- Scissor \n",
            "\n",
            "Enter your choice:2\n",
            "Your Choice is: Paper\n",
            "Now its Computer Turn\n",
            "Computer Choice is: Rock\n",
            "Paper v/s Rock\n",
            "<== You Win ==>\n",
            "Do you want to play again: Press (Y/N)\n",
            "y\n",
            "Enter your Choice: \n",
            " 1- Rock \n",
            " 2- Paper \n",
            " 3- Scissor \n",
            "\n",
            "Enter your choice:3\n",
            "Your Choice is: Scissor\n",
            "Now its Computer Turn\n",
            "Computer Choice is: Rock\n",
            "Scissor v/s Rock\n",
            "<== Computer Win ==>\n",
            "Do you want to play again: Press (Y/N)\n",
            "n\n",
            "Thanks for Playing\n"
          ]
        }
      ]
    }
  ]
}